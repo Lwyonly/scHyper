{
 "cells": [
  {
   "cell_type": "code",
   "execution_count": 1,
   "id": "550b0b56",
   "metadata": {},
   "outputs": [],
   "source": [
    "import pandas as pd\n",
    "import scanpy as sc\n",
    "import numpy as np\n",
    "import torch\n",
    "import scipy\n",
    "import matplotlib\n",
    "import matplotlib.pyplot as plt\n",
    "import os\n",
    "from itertools import product\n",
    "from scHyper import dataprocess as dp\n",
    "\n",
    "os.chdir('../scHyper/') #You can specify the location of other database "
   ]
  },
  {
   "cell_type": "markdown",
   "id": "c388a54e",
   "metadata": {},
   "source": [
    "### 1. Read gene expression matrix and cell type labels"
   ]
  },
  {
   "cell_type": "code",
   "execution_count": 2,
   "id": "605e5d81",
   "metadata": {},
   "outputs": [],
   "source": [
    "x = pd.read_csv(\"../tutorial/data/count.csv\", index_col=0)\n",
    "meta = pd.read_csv(\"../tutorial/data/meta.csv\", index_col=0)"
   ]
  },
  {
   "cell_type": "markdown",
   "id": "ba301618",
   "metadata": {},
   "source": [
    "### 2. We add the labels to adata.obs, and please normalize and logarithmize the unprocessed data here."
   ]
  },
  {
   "cell_type": "code",
   "execution_count": 3,
   "id": "7a11734b",
   "metadata": {},
   "outputs": [
    {
     "name": "stderr",
     "output_type": "stream",
     "text": [
      "C:\\Users\\28396\\AppData\\Local\\Temp\\ipykernel_29492\\1525764148.py:2: FutureWarning: X.dtype being converted to np.float32 from int64. In the next version of anndata (0.9) conversion will not be automatic. Pass dtype explicitly to avoid this warning. Pass `AnnData(X, dtype=X.dtype, ...)` to get the future behavour.\n",
      "  adata = sc.AnnData(X=x.T.values)\n"
     ]
    }
   ],
   "source": [
    "adata = sc.AnnData(X=x.T.values)\n",
    "adata.obs = pd.DataFrame(meta[\"labels\"])\n",
    "adata.var_names = x.index\n",
    "adata.obs_names = x.columns\n",
    "adata.obs_names_make_unique()\n",
    "adata.var_names_make_unique()\n",
    "sc.pp.filter_cells(adata, min_genes=10)\n",
    "sc.pp.filter_genes(adata, min_cells=3)\n",
    "sc.pp.normalize_total(adata, target_sum=1e4)\n",
    "sc.pp.log1p(adata)"
   ]
  },
  {
   "cell_type": "code",
   "execution_count": 4,
   "id": "06999a9e",
   "metadata": {},
   "outputs": [
    {
     "data": {
      "text/plain": [
       "AnnData object with n_obs × n_vars = 23 × 40\n",
       "    obs: 'labels', 'n_genes'\n",
       "    var: 'n_cells'\n",
       "    uns: 'log1p'"
      ]
     },
     "execution_count": 4,
     "metadata": {},
     "output_type": "execute_result"
    }
   ],
   "source": [
    "adata"
   ]
  },
  {
   "cell_type": "markdown",
   "id": "5256bf78",
   "metadata": {},
   "source": [
    "### 3. Construct intercellular communication tensor"
   ]
  },
  {
   "cell_type": "code",
   "execution_count": 5,
   "id": "7b531606",
   "metadata": {},
   "outputs": [],
   "source": [
    "# Calculate the average expression of genes in different cell types\n",
    "# Please select the truncated mean or average based on your requirements\n",
    "adata = dp.meanExpression(adata, type=\"mean\", groupby=\"labels\")\n",
    "# Pair of ligand-receptor interactions, expression of ligands and receptors appear in the gene expression matrix\n",
    "# Please select whether to use high-variation genes based on your needs\n",
    "adata, ligand_receptor_data = dp.process_ligands_receptors(adata, \"human\", highly_variable=False)\n",
    "# Construct intercellular communication tensor\n",
    "interaction_tensor = dp.generate_tensor(adata, ligand_receptor_data)"
   ]
  },
  {
   "cell_type": "markdown",
   "id": "5004b1fb",
   "metadata": {},
   "source": [
    "### 4. Get the triples of hypergraph and weights"
   ]
  },
  {
   "cell_type": "code",
   "execution_count": 6,
   "id": "991e7deb",
   "metadata": {},
   "outputs": [],
   "source": [
    "# Get the triples of hypergraph and weights.\n",
    "triplets, weights, validlrindices = dp.generate_triplets_weights_validlrindices(interaction_tensor)\n",
    "# Obtain effective L-R pairs and ineffective L-R pairs.\n",
    "validlrs, invalidlrs = dp.generate_validlrs_invalidlrs(validlrindices, ligand_receptor_data)\n",
    "# Obtain effective celltypes and ineffective celltypes.\n",
    "validsenderindices, validreceiverindices = dp.generate_validsenderindices_validreceiverindices(interaction_tensor)\n",
    "validsenders, invalidsenders, validreceivers, invalidreceivers = dp.generate_validsenders_validreceivers(adata, validsenderindices, validreceiverindices)\n",
    "# Update weights and triples\n",
    "triplets = dp.update_triplets(triplets)\n",
    "weights = dp.update_weights(weights)"
   ]
  },
  {
   "cell_type": "markdown",
   "id": "bd19c0dd",
   "metadata": {},
   "source": [
    "### 5. Generate the training set and test set"
   ]
  },
  {
   "cell_type": "code",
   "execution_count": 7,
   "id": "2e3ac23c",
   "metadata": {},
   "outputs": [],
   "source": [
    "# Generate the training set and test set\n",
    "train_triplets, test_triplets, train_weights, test_weights = dp.generate_train_test(triplets, weights)\n",
    "train_nums_type, test_nums_type = dp.generate_nums_type(train_triplets, test_triplets)"
   ]
  },
  {
   "cell_type": "code",
   "execution_count": 8,
   "id": "c46764c3",
   "metadata": {},
   "outputs": [],
   "source": [
    "# Save the training and test data sets, Please specify the save_path\n",
    "save_path='D:/xugen/scHyper-master/data/demo'\n",
    "np.savez(os.path.join(save_path, 'train_data.npz'), nums_type=train_nums_type, train_data=train_triplets, train_weight=train_weights)\n",
    "np.savez(os.path.join(save_path, 'test_data.npz'), nums_type=train_nums_type, test_data=test_triplets, test_weight=test_weights)\n",
    "\n",
    "# Create and save an array for prediction\n",
    "use_to_predict = dp.use_to_predict(triplets)\n",
    "np.savez(os.path.join(save_path, 'use_to_predict.npz'), use_to_predict=use_to_predict)"
   ]
  },
  {
   "cell_type": "markdown",
   "id": "3253c1d9",
   "metadata": {},
   "source": [
    "### 6. We used nonparametric tests to identify significant intercellular communications"
   ]
  },
  {
   "cell_type": "code",
   "execution_count": 9,
   "id": "6267202a",
   "metadata": {},
   "outputs": [
    {
     "name": "stdout",
     "output_type": "stream",
     "text": [
      "\n",
      "Total enriched: 2 / 192\n"
     ]
    }
   ],
   "source": [
    "# The next step is after training the model\n",
    "df_nn, candidates = dp.genenrate_df_nn_candidates(validlrs, validsenders, validreceivers, triplets, use_to_predict)\n",
    "df_enriched, tensor_pval = dp.null_test(df_nn, candidates, pval=0.05, plot=False)"
   ]
  },
  {
   "cell_type": "markdown",
   "id": "35df0ce1",
   "metadata": {},
   "source": [
    "### 7.  Visualization preparation"
   ]
  },
  {
   "cell_type": "code",
   "execution_count": null,
   "id": "28f8de91",
   "metadata": {},
   "outputs": [],
   "source": [
    "file_path='../results'\n",
    "dp.generate_results(adata, df_nn, tensor_pval, validlrs, train_nums_type, file_path)"
   ]
  },
  {
   "cell_type": "code",
   "execution_count": null,
   "id": "f26abcf2",
   "metadata": {},
   "outputs": [],
   "source": []
  }
 ],
 "metadata": {
  "kernelspec": {
   "display_name": "Python 3 (ipykernel)",
   "language": "python",
   "name": "python3"
  },
  "language_info": {
   "codemirror_mode": {
    "name": "ipython",
    "version": 3
   },
   "file_extension": ".py",
   "mimetype": "text/x-python",
   "name": "python",
   "nbconvert_exporter": "python",
   "pygments_lexer": "ipython3",
   "version": "3.9.12"
  }
 },
 "nbformat": 4,
 "nbformat_minor": 5
}
